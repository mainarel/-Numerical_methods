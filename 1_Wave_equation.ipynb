{
  "nbformat": 4,
  "nbformat_minor": 0,
  "metadata": {
    "colab": {
      "name": "1_Wave_equation.ipynb",
      "provenance": [],
      "authorship_tag": "ABX9TyM8mJ5riz0AkASroIpuadMe",
      "include_colab_link": true
    },
    "kernelspec": {
      "name": "python3",
      "display_name": "Python 3"
    },
    "language_info": {
      "name": "python"
    }
  },
  "cells": [
    {
      "cell_type": "markdown",
      "metadata": {
        "id": "view-in-github",
        "colab_type": "text"
      },
      "source": [
        "<a href=\"https://colab.research.google.com/github/mainarel/-Numerical_methods/blob/main/1_Wave_equation.ipynb\" target=\"_parent\"><img src=\"https://colab.research.google.com/assets/colab-badge.svg\" alt=\"Open In Colab\"/></a>"
      ]
    },
    {
      "cell_type": "markdown",
      "source": [
        ""
      ],
      "metadata": {
        "id": "M0tyovse5wO2"
      }
    },
    {
      "cell_type": "code",
      "execution_count": 1,
      "metadata": {
        "colab": {
          "base_uri": "https://localhost:8080/",
          "height": 130
        },
        "id": "WbhPIIFU2yAV",
        "outputId": "cfb84032-1b50-406d-b7c5-6d59e5a86504"
      },
      "outputs": [
        {
          "output_type": "error",
          "ename": "SyntaxError",
          "evalue": "ignored",
          "traceback": [
            "\u001b[0;36m  File \u001b[0;32m\"<ipython-input-1-d8068789cf2d>\"\u001b[0;36m, line \u001b[0;32m7\u001b[0m\n\u001b[0;31m    \u001b[0m\n\u001b[0m    ^\u001b[0m\n\u001b[0;31mSyntaxError\u001b[0m\u001b[0;31m:\u001b[0m unexpected EOF while parsing\n"
          ]
        }
      ],
      "source": [
        "import numpy as np\n",
        "import matplotlib as plt\n",
        "\n",
        "\n",
        "T_0 = 1\n",
        "ro = 1\n",
        "\n",
        "def koef_a(T_0, ro):\n",
        "  return T_0 / ro\n",
        "\n",
        "def stability_condition(h, tau):\n",
        "  if (koef_a(T_0, ro) * tau) / h <= 1:\n",
        "    return True\n",
        "  else:\n",
        "    return False\n",
        "\n",
        "\n",
        "\n",
        "\n"
      ]
    }
  ]
}